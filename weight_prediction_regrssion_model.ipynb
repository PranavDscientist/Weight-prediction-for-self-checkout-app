{
  "nbformat": 4,
  "nbformat_minor": 0,
  "metadata": {
    "colab": {
      "provenance": [],
      "mount_file_id": "1K7FIQTOZff85Bgw5HPh-SZY7B3qTEKPE",
      "authorship_tag": "ABX9TyM/95GOpDfyt4kwvmRhaO4W",
      "include_colab_link": true
    },
    "kernelspec": {
      "name": "python3",
      "display_name": "Python 3"
    },
    "language_info": {
      "name": "python"
    }
  },
  "cells": [
    {
      "cell_type": "markdown",
      "metadata": {
        "id": "view-in-github",
        "colab_type": "text"
      },
      "source": [
        "<a href=\"https://colab.research.google.com/github/PranavDscientist/Weight-prediction-for-self-checkout-app/blob/main/weight_prediction_regrssion_model.ipynb\" target=\"_parent\"><img src=\"https://colab.research.google.com/assets/colab-badge.svg\" alt=\"Open In Colab\"/></a>"
      ]
    },
    {
      "cell_type": "code",
      "execution_count": 1,
      "metadata": {
        "colab": {
          "base_uri": "https://localhost:8080/"
        },
        "id": "w4u3YfClmspr",
        "outputId": "8fe75c2d-8e39-4e3d-d8df-251089cb2397"
      },
      "outputs": [
        {
          "output_type": "stream",
          "name": "stdout",
          "text": [
            "MAE: 22.220736150702393\n",
            "MAPE: 0.09456837389807642\n",
            "MSE: 3196.8296399836313\n",
            "R2 score: 0.9953036245424443\n"
          ]
        },
        {
          "output_type": "execute_result",
          "data": {
            "text/plain": [
              "['categorical_transformer.joblib']"
            ]
          },
          "metadata": {},
          "execution_count": 1
        }
      ],
      "source": [
        "import pandas as pd\n",
        "import joblib\n",
        "from sklearn.preprocessing import MinMaxScaler, OneHotEncoder\n",
        "from sklearn.model_selection import train_test_split\n",
        "from sklearn.tree import DecisionTreeRegressor\n",
        "from sklearn.metrics import mean_absolute_error, mean_absolute_percentage_error, mean_squared_error, r2_score\n",
        "\n",
        "# Read the Excel file\n",
        "df = pd.read_csv('/content/drive/MyDrive/fake2.csv')\n",
        "X = df.iloc[:, :-1]\n",
        "y = df.iloc[:, -1]\n",
        "\n",
        "# Identify numerical and categorical columns\n",
        "numerical_cols = X.select_dtypes(include=['float64', 'int64']).columns\n",
        "categorical_cols = X.select_dtypes(include=['object']).columns\n",
        "\n",
        "# Apply transformations to numerical columns\n",
        "numerical_transformer = MinMaxScaler()\n",
        "X[numerical_cols] = numerical_transformer.fit_transform(X[numerical_cols])\n",
        "\n",
        "# Apply transformations to categorical columns\n",
        "categorical_transformer = OneHotEncoder(drop='first', sparse_output=False)\n",
        "categorical_data = categorical_transformer.fit_transform(X[categorical_cols])\n",
        "\n",
        "# Concatenate the transformed numerical and categorical data\n",
        "X_transformed = pd.concat([pd.DataFrame(X[numerical_cols]), pd.DataFrame(categorical_data, columns=categorical_transformer.get_feature_names_out(categorical_cols))], axis=1)\n",
        "\n",
        "# Split the data\n",
        "X_train, X_test, y_train, y_test = train_test_split(X_transformed, y, test_size=0.3, random_state=1)\n",
        "\n",
        "# Build and train the model\n",
        "model = DecisionTreeRegressor()\n",
        "model.fit(X_train, y_train)\n",
        "\n",
        "# Make predictions on the test set\n",
        "y_pred = model.predict(X_test)\n",
        "\n",
        "# Calculate evaluation metrics\n",
        "print('MAE:', mean_absolute_error(y_test, y_pred))\n",
        "print('MAPE:', mean_absolute_percentage_error(y_test, y_pred))\n",
        "print('MSE:', mean_squared_error(y_test, y_pred))\n",
        "print('R2 score:', r2_score(y_test, y_pred))\n",
        "\n",
        "# Save the trained model and transformers\n",
        "joblib.dump(model, 'tree_model.joblib')\n",
        "joblib.dump(numerical_transformer, 'numerical_transformer.joblib')\n",
        "joblib.dump(categorical_transformer, 'categorical_transformer.joblib')"
      ]
    },
    {
      "cell_type": "code",
      "source": [
        "new_data = [['plastic', 250, 'g']]\n",
        "\n",
        "# Convert the new data to a DataFrame\n",
        "new_data_df = pd.DataFrame(new_data, columns=X.columns)\n",
        "\n",
        "# Apply transformations to the new data\n",
        "new_numerical_data = numerical_transformer.transform(new_data_df[numerical_cols])\n",
        "new_categorical_data = categorical_transformer.transform(new_data_df[categorical_cols])\n",
        "\n",
        "# Concatenate the transformed numerical and categorical data for new data\n",
        "new_data_transformed = pd.concat([pd.DataFrame(new_numerical_data, columns=numerical_cols), pd.DataFrame(new_categorical_data, columns=categorical_transformer.get_feature_names_out(categorical_cols))], axis=1)\n",
        "\n",
        "# Predict on the new data\n",
        "y_pred = model.predict(new_data_transformed)\n",
        "\n",
        "print('Predicted weight:', y_pred.item())"
      ],
      "metadata": {
        "id": "l_IgOQfEcXvW",
        "colab": {
          "base_uri": "https://localhost:8080/"
        },
        "outputId": "c70059eb-aba5-44b2-a4aa-67c6fcf67242"
      },
      "execution_count": 2,
      "outputs": [
        {
          "output_type": "stream",
          "name": "stdout",
          "text": [
            "Predicted weight: 301.0\n"
          ]
        }
      ]
    }
  ]
}